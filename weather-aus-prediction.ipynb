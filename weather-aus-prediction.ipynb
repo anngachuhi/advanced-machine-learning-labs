{
 "cells": [
  {
   "cell_type": "code",
   "execution_count": 1,
   "id": "21535b28",
   "metadata": {
    "execution": {
     "iopub.execute_input": "2025-09-24T14:37:35.178817Z",
     "iopub.status.busy": "2025-09-24T14:37:35.178405Z",
     "iopub.status.idle": "2025-09-24T14:37:37.648563Z",
     "shell.execute_reply": "2025-09-24T14:37:37.647401Z"
    },
    "papermill": {
     "duration": 2.479681,
     "end_time": "2025-09-24T14:37:37.650625",
     "exception": false,
     "start_time": "2025-09-24T14:37:35.170944",
     "status": "completed"
    },
    "tags": []
   },
   "outputs": [],
   "source": [
    "import numpy as np # linear algebra\n",
    "import pandas as pd # data processing, CSV file I/O (e.g. pd.read_csv)"
   ]
  },
  {
   "cell_type": "code",
   "execution_count": 2,
   "id": "169bde27",
   "metadata": {
    "execution": {
     "iopub.execute_input": "2025-09-24T14:37:37.663879Z",
     "iopub.status.busy": "2025-09-24T14:37:37.663418Z",
     "iopub.status.idle": "2025-09-24T14:37:38.789650Z",
     "shell.execute_reply": "2025-09-24T14:37:38.786286Z"
    },
    "papermill": {
     "duration": 1.136357,
     "end_time": "2025-09-24T14:37:38.792744",
     "exception": false,
     "start_time": "2025-09-24T14:37:37.656387",
     "status": "completed"
    },
    "tags": []
   },
   "outputs": [
    {
     "name": "stderr",
     "output_type": "stream",
     "text": [
      "/usr/local/lib/python3.11/dist-packages/pandas/io/formats/format.py:1458: RuntimeWarning: invalid value encountered in greater\n",
      "  has_large_values = (abs_vals > 1e6).any()\n",
      "/usr/local/lib/python3.11/dist-packages/pandas/io/formats/format.py:1459: RuntimeWarning: invalid value encountered in less\n",
      "  has_small_values = ((abs_vals < 10 ** (-self.digits)) & (abs_vals > 0)).any()\n",
      "/usr/local/lib/python3.11/dist-packages/pandas/io/formats/format.py:1459: RuntimeWarning: invalid value encountered in greater\n",
      "  has_small_values = ((abs_vals < 10 ** (-self.digits)) & (abs_vals > 0)).any()\n",
      "/usr/local/lib/python3.11/dist-packages/pandas/io/formats/format.py:1458: RuntimeWarning: invalid value encountered in greater\n",
      "  has_large_values = (abs_vals > 1e6).any()\n",
      "/usr/local/lib/python3.11/dist-packages/pandas/io/formats/format.py:1459: RuntimeWarning: invalid value encountered in less\n",
      "  has_small_values = ((abs_vals < 10 ** (-self.digits)) & (abs_vals > 0)).any()\n",
      "/usr/local/lib/python3.11/dist-packages/pandas/io/formats/format.py:1459: RuntimeWarning: invalid value encountered in greater\n",
      "  has_small_values = ((abs_vals < 10 ** (-self.digits)) & (abs_vals > 0)).any()\n"
     ]
    },
    {
     "data": {
      "text/html": [
       "<div>\n",
       "<style scoped>\n",
       "    .dataframe tbody tr th:only-of-type {\n",
       "        vertical-align: middle;\n",
       "    }\n",
       "\n",
       "    .dataframe tbody tr th {\n",
       "        vertical-align: top;\n",
       "    }\n",
       "\n",
       "    .dataframe thead th {\n",
       "        text-align: right;\n",
       "    }\n",
       "</style>\n",
       "<table border=\"1\" class=\"dataframe\">\n",
       "  <thead>\n",
       "    <tr style=\"text-align: right;\">\n",
       "      <th></th>\n",
       "      <th>Date</th>\n",
       "      <th>Location</th>\n",
       "      <th>MinTemp</th>\n",
       "      <th>MaxTemp</th>\n",
       "      <th>Rainfall</th>\n",
       "      <th>Evaporation</th>\n",
       "      <th>Sunshine</th>\n",
       "      <th>WindGustDir</th>\n",
       "      <th>WindGustSpeed</th>\n",
       "      <th>WindDir9am</th>\n",
       "      <th>...</th>\n",
       "      <th>Humidity3pm</th>\n",
       "      <th>Pressure9am</th>\n",
       "      <th>Pressure3pm</th>\n",
       "      <th>Cloud9am</th>\n",
       "      <th>Cloud3pm</th>\n",
       "      <th>Temp9am</th>\n",
       "      <th>Temp3pm</th>\n",
       "      <th>RainToday</th>\n",
       "      <th>RISK_MM</th>\n",
       "      <th>RainTomorrow</th>\n",
       "    </tr>\n",
       "  </thead>\n",
       "  <tbody>\n",
       "    <tr>\n",
       "      <th>114569</th>\n",
       "      <td>2017-02-14</td>\n",
       "      <td>PearceRAAF</td>\n",
       "      <td>22.7</td>\n",
       "      <td>31.5</td>\n",
       "      <td>1.4</td>\n",
       "      <td>NaN</td>\n",
       "      <td>11.0</td>\n",
       "      <td>WSW</td>\n",
       "      <td>35.0</td>\n",
       "      <td>SW</td>\n",
       "      <td>...</td>\n",
       "      <td>56.0</td>\n",
       "      <td>1012.3</td>\n",
       "      <td>1012.0</td>\n",
       "      <td>7.0</td>\n",
       "      <td>NaN</td>\n",
       "      <td>27.0</td>\n",
       "      <td>30.8</td>\n",
       "      <td>Yes</td>\n",
       "      <td>0.2</td>\n",
       "      <td>No</td>\n",
       "    </tr>\n",
       "    <tr>\n",
       "      <th>61001</th>\n",
       "      <td>2012-07-19</td>\n",
       "      <td>Sale</td>\n",
       "      <td>0.4</td>\n",
       "      <td>13.9</td>\n",
       "      <td>0.2</td>\n",
       "      <td>2.0</td>\n",
       "      <td>8.2</td>\n",
       "      <td>W</td>\n",
       "      <td>43.0</td>\n",
       "      <td>NW</td>\n",
       "      <td>...</td>\n",
       "      <td>44.0</td>\n",
       "      <td>1022.4</td>\n",
       "      <td>1020.8</td>\n",
       "      <td>1.0</td>\n",
       "      <td>2.0</td>\n",
       "      <td>6.4</td>\n",
       "      <td>13.5</td>\n",
       "      <td>No</td>\n",
       "      <td>0.0</td>\n",
       "      <td>No</td>\n",
       "    </tr>\n",
       "    <tr>\n",
       "      <th>57176</th>\n",
       "      <td>2010-03-20</td>\n",
       "      <td>Bendigo</td>\n",
       "      <td>15.2</td>\n",
       "      <td>28.8</td>\n",
       "      <td>0.0</td>\n",
       "      <td>5.2</td>\n",
       "      <td>NaN</td>\n",
       "      <td>W</td>\n",
       "      <td>35.0</td>\n",
       "      <td>NaN</td>\n",
       "      <td>...</td>\n",
       "      <td>40.0</td>\n",
       "      <td>1020.3</td>\n",
       "      <td>1018.9</td>\n",
       "      <td>3.0</td>\n",
       "      <td>5.0</td>\n",
       "      <td>18.3</td>\n",
       "      <td>27.2</td>\n",
       "      <td>No</td>\n",
       "      <td>0.0</td>\n",
       "      <td>No</td>\n",
       "    </tr>\n",
       "    <tr>\n",
       "      <th>82094</th>\n",
       "      <td>2009-08-08</td>\n",
       "      <td>Brisbane</td>\n",
       "      <td>10.5</td>\n",
       "      <td>22.7</td>\n",
       "      <td>0.0</td>\n",
       "      <td>2.8</td>\n",
       "      <td>10.0</td>\n",
       "      <td>E</td>\n",
       "      <td>28.0</td>\n",
       "      <td>SW</td>\n",
       "      <td>...</td>\n",
       "      <td>47.0</td>\n",
       "      <td>1019.7</td>\n",
       "      <td>1016.7</td>\n",
       "      <td>1.0</td>\n",
       "      <td>1.0</td>\n",
       "      <td>16.4</td>\n",
       "      <td>20.5</td>\n",
       "      <td>No</td>\n",
       "      <td>0.0</td>\n",
       "      <td>No</td>\n",
       "    </tr>\n",
       "    <tr>\n",
       "      <th>136801</th>\n",
       "      <td>2010-11-28</td>\n",
       "      <td>Darwin</td>\n",
       "      <td>24.7</td>\n",
       "      <td>32.8</td>\n",
       "      <td>7.6</td>\n",
       "      <td>6.2</td>\n",
       "      <td>4.7</td>\n",
       "      <td>N</td>\n",
       "      <td>28.0</td>\n",
       "      <td>E</td>\n",
       "      <td>...</td>\n",
       "      <td>69.0</td>\n",
       "      <td>1008.5</td>\n",
       "      <td>1005.9</td>\n",
       "      <td>7.0</td>\n",
       "      <td>7.0</td>\n",
       "      <td>28.5</td>\n",
       "      <td>30.4</td>\n",
       "      <td>Yes</td>\n",
       "      <td>0.0</td>\n",
       "      <td>No</td>\n",
       "    </tr>\n",
       "  </tbody>\n",
       "</table>\n",
       "<p>5 rows × 24 columns</p>\n",
       "</div>"
      ],
      "text/plain": [
       "              Date    Location  MinTemp  MaxTemp  Rainfall  Evaporation  \\\n",
       "114569  2017-02-14  PearceRAAF     22.7     31.5       1.4          NaN   \n",
       "61001   2012-07-19        Sale      0.4     13.9       0.2          2.0   \n",
       "57176   2010-03-20     Bendigo     15.2     28.8       0.0          5.2   \n",
       "82094   2009-08-08    Brisbane     10.5     22.7       0.0          2.8   \n",
       "136801  2010-11-28      Darwin     24.7     32.8       7.6          6.2   \n",
       "\n",
       "        Sunshine WindGustDir  WindGustSpeed WindDir9am  ... Humidity3pm  \\\n",
       "114569      11.0         WSW           35.0         SW  ...        56.0   \n",
       "61001        8.2           W           43.0         NW  ...        44.0   \n",
       "57176        NaN           W           35.0        NaN  ...        40.0   \n",
       "82094       10.0           E           28.0         SW  ...        47.0   \n",
       "136801       4.7           N           28.0          E  ...        69.0   \n",
       "\n",
       "        Pressure9am  Pressure3pm  Cloud9am  Cloud3pm  Temp9am  Temp3pm  \\\n",
       "114569       1012.3       1012.0       7.0       NaN     27.0     30.8   \n",
       "61001        1022.4       1020.8       1.0       2.0      6.4     13.5   \n",
       "57176        1020.3       1018.9       3.0       5.0     18.3     27.2   \n",
       "82094        1019.7       1016.7       1.0       1.0     16.4     20.5   \n",
       "136801       1008.5       1005.9       7.0       7.0     28.5     30.4   \n",
       "\n",
       "        RainToday  RISK_MM  RainTomorrow  \n",
       "114569        Yes      0.2            No  \n",
       "61001          No      0.0            No  \n",
       "57176          No      0.0            No  \n",
       "82094          No      0.0            No  \n",
       "136801        Yes      0.0            No  \n",
       "\n",
       "[5 rows x 24 columns]"
      ]
     },
     "execution_count": 2,
     "metadata": {},
     "output_type": "execute_result"
    }
   ],
   "source": [
    "df = pd.read_csv(\"/kaggle/input/weatheraus/weatherAUS.csv\")\n",
    "df.sample(5)"
   ]
  },
  {
   "cell_type": "code",
   "execution_count": 3,
   "id": "e2255110",
   "metadata": {
    "execution": {
     "iopub.execute_input": "2025-09-24T14:37:38.806925Z",
     "iopub.status.busy": "2025-09-24T14:37:38.806563Z",
     "iopub.status.idle": "2025-09-24T14:37:38.812345Z",
     "shell.execute_reply": "2025-09-24T14:37:38.811071Z"
    },
    "papermill": {
     "duration": 0.015188,
     "end_time": "2025-09-24T14:37:38.814672",
     "exception": false,
     "start_time": "2025-09-24T14:37:38.799484",
     "status": "completed"
    },
    "tags": []
   },
   "outputs": [
    {
     "name": "stdout",
     "output_type": "stream",
     "text": [
      "Size of weather dataframe: (142193, 24)\n"
     ]
    }
   ],
   "source": [
    "print(\"Size of weather dataframe:\", df.shape)"
   ]
  },
  {
   "cell_type": "markdown",
   "id": "f5ab4791",
   "metadata": {
    "papermill": {
     "duration": 0.005462,
     "end_time": "2025-09-24T14:37:38.826459",
     "exception": false,
     "start_time": "2025-09-24T14:37:38.820997",
     "status": "completed"
    },
    "tags": []
   },
   "source": [
    "## Data Preprocessing"
   ]
  },
  {
   "cell_type": "code",
   "execution_count": 4,
   "id": "ad05b30e",
   "metadata": {
    "execution": {
     "iopub.execute_input": "2025-09-24T14:37:38.840807Z",
     "iopub.status.busy": "2025-09-24T14:37:38.840466Z",
     "iopub.status.idle": "2025-09-24T14:37:38.929863Z",
     "shell.execute_reply": "2025-09-24T14:37:38.927544Z"
    },
    "papermill": {
     "duration": 0.100872,
     "end_time": "2025-09-24T14:37:38.933537",
     "exception": false,
     "start_time": "2025-09-24T14:37:38.832665",
     "status": "completed"
    },
    "tags": []
   },
   "outputs": [
    {
     "name": "stdout",
     "output_type": "stream",
     "text": [
      "Sunshine          74377\n",
      "Evaporation       81350\n",
      "Cloud3pm          85099\n",
      "Cloud9am          88536\n",
      "Pressure9am      128179\n",
      "Pressure3pm      128212\n",
      "WindDir9am       132180\n",
      "WindGustDir      132863\n",
      "WindGustSpeed    132923\n",
      "WindDir3pm       138415\n",
      "Humidity3pm      138583\n",
      "Temp3pm          139467\n",
      "WindSpeed3pm     139563\n",
      "Humidity9am      140419\n",
      "RainToday        140787\n",
      "Rainfall         140787\n",
      "WindSpeed9am     140845\n",
      "Temp9am          141289\n",
      "MinTemp          141556\n",
      "MaxTemp          141871\n",
      "Date             142193\n",
      "Location         142193\n",
      "RISK_MM          142193\n",
      "RainTomorrow     142193\n",
      "dtype: int64\n",
      "(142193, 17)\n"
     ]
    }
   ],
   "source": [
    "# check for null values\n",
    "print(df.count().sort_values())\n",
    "# drop irrerevant columns\n",
    "df = df.drop(columns = ['Sunshine','Evaporation','Cloud3pm', 'Cloud9am', 'Date', 'Location', 'RISK_MM' ])\n",
    "print(df.shape)"
   ]
  },
  {
   "cell_type": "code",
   "execution_count": 5,
   "id": "8f89934e",
   "metadata": {
    "execution": {
     "iopub.execute_input": "2025-09-24T14:37:38.948736Z",
     "iopub.status.busy": "2025-09-24T14:37:38.948437Z",
     "iopub.status.idle": "2025-09-24T14:37:39.006306Z",
     "shell.execute_reply": "2025-09-24T14:37:39.004658Z"
    },
    "papermill": {
     "duration": 0.067599,
     "end_time": "2025-09-24T14:37:39.008190",
     "exception": false,
     "start_time": "2025-09-24T14:37:38.940591",
     "status": "completed"
    },
    "tags": []
   },
   "outputs": [
    {
     "name": "stdout",
     "output_type": "stream",
     "text": [
      "(112925, 17)\n"
     ]
    }
   ],
   "source": [
    "# removing all null values\n",
    "df = df.dropna(how = \"any\")\n",
    "print(df.shape)"
   ]
  },
  {
   "cell_type": "code",
   "execution_count": 6,
   "id": "f8a6bc3a",
   "metadata": {
    "execution": {
     "iopub.execute_input": "2025-09-24T14:37:39.022488Z",
     "iopub.status.busy": "2025-09-24T14:37:39.022180Z",
     "iopub.status.idle": "2025-09-24T14:37:40.856658Z",
     "shell.execute_reply": "2025-09-24T14:37:40.855519Z"
    },
    "papermill": {
     "duration": 1.844429,
     "end_time": "2025-09-24T14:37:40.858400",
     "exception": false,
     "start_time": "2025-09-24T14:37:39.013971",
     "status": "completed"
    },
    "tags": []
   },
   "outputs": [
    {
     "name": "stdout",
     "output_type": "stream",
     "text": [
      "[[0.11756741 0.10822071 0.20666127 ... 1.14245477 0.08843526 0.04787026]\n",
      " [0.84180219 0.20684494 0.27640495 ... 1.04184813 0.04122846 0.31776848]\n",
      " [0.03761995 0.29277194 0.27640495 ... 0.91249673 0.55672435 0.15688743]\n",
      " ...\n",
      " [1.44940294 0.23548728 0.27640495 ... 0.58223051 1.03257127 0.34701958]\n",
      " [1.16159206 0.46462594 0.27640495 ... 0.25166583 0.78080166 0.58102838]\n",
      " [0.77784422 0.4789471  0.27640495 ... 0.2085487  0.37167606 0.56640283]]\n",
      "(107868, 17)\n"
     ]
    }
   ],
   "source": [
    "#dealing with outliers using z_score\n",
    "from scipy import stats\n",
    "#select numeric columns only with the standardized values\n",
    "z = np.abs(stats.zscore(df._get_numeric_data()))\n",
    "print(z)\n",
    "#remove rows with extreme outliers.\n",
    "df = df[(z < 3).all(axis = 1)]\n",
    "print(df.shape)  "
   ]
  },
  {
   "cell_type": "code",
   "execution_count": 7,
   "id": "133c93ab",
   "metadata": {
    "execution": {
     "iopub.execute_input": "2025-09-24T14:37:40.872570Z",
     "iopub.status.busy": "2025-09-24T14:37:40.871992Z",
     "iopub.status.idle": "2025-09-24T14:37:40.956072Z",
     "shell.execute_reply": "2025-09-24T14:37:40.954869Z"
    },
    "papermill": {
     "duration": 0.092704,
     "end_time": "2025-09-24T14:37:40.957653",
     "exception": false,
     "start_time": "2025-09-24T14:37:40.864949",
     "status": "completed"
    },
    "tags": []
   },
   "outputs": [
    {
     "name": "stderr",
     "output_type": "stream",
     "text": [
      "/tmp/ipykernel_13/3100375108.py:1: FutureWarning: Downcasting behavior in `replace` is deprecated and will be removed in a future version. To retain the old behavior, explicitly call `result.infer_objects(copy=False)`. To opt-in to the future behavior, set `pd.set_option('future.no_silent_downcasting', True)`\n",
      "  df.replace({\n"
     ]
    }
   ],
   "source": [
    "df.replace({\n",
    "    \"RainToday\": {\"No\": 0, \"Yes\": 1},\n",
    "    \"RainTomorrow\": {\"No\": 0, \"Yes\": 1}\n",
    "}, inplace=True)"
   ]
  },
  {
   "cell_type": "code",
   "execution_count": 8,
   "id": "d656a980",
   "metadata": {
    "execution": {
     "iopub.execute_input": "2025-09-24T14:37:40.971080Z",
     "iopub.status.busy": "2025-09-24T14:37:40.970563Z",
     "iopub.status.idle": "2025-09-24T14:37:41.360990Z",
     "shell.execute_reply": "2025-09-24T14:37:41.359448Z"
    },
    "papermill": {
     "duration": 0.39902,
     "end_time": "2025-09-24T14:37:41.362734",
     "exception": false,
     "start_time": "2025-09-24T14:37:40.963714",
     "status": "completed"
    },
    "tags": []
   },
   "outputs": [
    {
     "name": "stdout",
     "output_type": "stream",
     "text": [
      "['E' 'ENE' 'ESE' 'N' 'NE' 'NNE' 'NNW' 'NW' 'S' 'SE' 'SSE' 'SSW' 'SW' 'W'\n",
      " 'WNW' 'WSW']\n",
      "['E' 'ENE' 'ESE' 'N' 'NE' 'NNE' 'NNW' 'NW' 'S' 'SE' 'SSE' 'SSW' 'SW' 'W'\n",
      " 'WNW' 'WSW']\n",
      "['E' 'ENE' 'ESE' 'N' 'NE' 'NNE' 'NNW' 'NW' 'S' 'SE' 'SSE' 'SSW' 'SW' 'W'\n",
      " 'WNW' 'WSW']\n",
      "   MinTemp  MaxTemp  Rainfall  WindGustSpeed  WindSpeed9am  WindSpeed3pm  \\\n",
      "4     17.5     32.3       1.0           41.0           7.0          20.0   \n",
      "5     14.6     29.7       0.2           56.0          19.0          24.0   \n",
      "6     14.3     25.0       0.0           50.0          20.0          24.0   \n",
      "7      7.7     26.7       0.0           35.0           6.0          17.0   \n",
      "8      9.7     31.9       0.0           80.0           7.0          28.0   \n",
      "\n",
      "   Humidity9am  Humidity3pm  Pressure9am  Pressure3pm  ...  WindDir3pm_NNW  \\\n",
      "4         82.0         33.0       1010.8       1006.0  ...               0   \n",
      "5         55.0         23.0       1009.2       1005.4  ...               0   \n",
      "6         49.0         19.0       1009.6       1008.2  ...               0   \n",
      "7         48.0         19.0       1013.4       1010.1  ...               0   \n",
      "8         42.0          9.0       1008.9       1003.6  ...               0   \n",
      "\n",
      "   WindDir3pm_NW  WindDir3pm_S  WindDir3pm_SE  WindDir3pm_SSE  WindDir3pm_SSW  \\\n",
      "4              1             0              0               0               0   \n",
      "5              0             0              0               0               0   \n",
      "6              0             0              0               0               0   \n",
      "7              0             0              0               0               0   \n",
      "8              1             0              0               0               0   \n",
      "\n",
      "   WindDir3pm_SW  WindDir3pm_W  WindDir3pm_WNW  WindDir3pm_WSW  \n",
      "4              0             0               0               0  \n",
      "5              0             1               0               0  \n",
      "6              0             1               0               0  \n",
      "7              0             1               0               0  \n",
      "8              0             0               0               0  \n",
      "\n",
      "[5 rows x 62 columns]\n"
     ]
    }
   ],
   "source": [
    "# unique values and convert them to int\n",
    "categorical_columns = [\"WindDir9am\", \"WindGustDir\", \"WindDir3pm\"]\n",
    "for col in categorical_columns:\n",
    "    print(np.unique(df[col]))\n",
    "\n",
    "# transform categorical columns\n",
    "df = pd.get_dummies(df, columns = categorical_columns, dtype = int)\n",
    "print(df.iloc[4:9])"
   ]
  },
  {
   "cell_type": "code",
   "execution_count": 9,
   "id": "42b375bc",
   "metadata": {
    "execution": {
     "iopub.execute_input": "2025-09-24T14:37:41.376431Z",
     "iopub.status.busy": "2025-09-24T14:37:41.376117Z",
     "iopub.status.idle": "2025-09-24T14:37:41.384501Z",
     "shell.execute_reply": "2025-09-24T14:37:41.382996Z"
    },
    "papermill": {
     "duration": 0.01883,
     "end_time": "2025-09-24T14:37:41.387883",
     "exception": false,
     "start_time": "2025-09-24T14:37:41.369053",
     "status": "completed"
    },
    "tags": []
   },
   "outputs": [
    {
     "data": {
      "text/plain": [
       "(107868, 62)"
      ]
     },
     "execution_count": 9,
     "metadata": {},
     "output_type": "execute_result"
    }
   ],
   "source": [
    "df.shape"
   ]
  },
  {
   "cell_type": "code",
   "execution_count": 10,
   "id": "b847781e",
   "metadata": {
    "execution": {
     "iopub.execute_input": "2025-09-24T14:37:41.412564Z",
     "iopub.status.busy": "2025-09-24T14:37:41.411610Z",
     "iopub.status.idle": "2025-09-24T14:37:41.811733Z",
     "shell.execute_reply": "2025-09-24T14:37:41.810833Z"
    },
    "papermill": {
     "duration": 0.411252,
     "end_time": "2025-09-24T14:37:41.813975",
     "exception": false,
     "start_time": "2025-09-24T14:37:41.402723",
     "status": "completed"
    },
    "tags": []
   },
   "outputs": [
    {
     "name": "stdout",
     "output_type": "stream",
     "text": [
      "    MinTemp   MaxTemp  Rainfall  WindGustSpeed  WindSpeed9am  WindSpeed3pm  \\\n",
      "1  0.358289  0.518519  0.000000       0.506849      0.054054      0.476190   \n",
      "2  0.505348  0.533333  0.000000       0.534247      0.459459      0.571429   \n",
      "3  0.406417  0.590123  0.000000       0.232877      0.243243      0.166667   \n",
      "4  0.628342  0.696296  0.035714       0.465753      0.135135      0.428571   \n",
      "5  0.550802  0.632099  0.007143       0.671233      0.459459      0.523810   \n",
      "\n",
      "   Humidity9am  Humidity3pm  Pressure9am  Pressure3pm  ...  WindDir3pm_NNW  \\\n",
      "1     0.370787         0.25     0.337292     0.326139  ...             0.0   \n",
      "2     0.303371         0.30     0.266033     0.347722  ...             0.0   \n",
      "3     0.382022         0.16     0.503563     0.446043  ...             0.0   \n",
      "4     0.797753         0.33     0.342043     0.282974  ...             0.0   \n",
      "5     0.494382         0.23     0.304038     0.268585  ...             0.0   \n",
      "\n",
      "   WindDir3pm_NW  WindDir3pm_S  WindDir3pm_SE  WindDir3pm_SSE  WindDir3pm_SSW  \\\n",
      "1            0.0           0.0            0.0             0.0             0.0   \n",
      "2            0.0           0.0            0.0             0.0             0.0   \n",
      "3            0.0           0.0            0.0             0.0             0.0   \n",
      "4            1.0           0.0            0.0             0.0             0.0   \n",
      "5            0.0           0.0            0.0             0.0             0.0   \n",
      "\n",
      "   WindDir3pm_SW  WindDir3pm_W  WindDir3pm_WNW  WindDir3pm_WSW  \n",
      "1            0.0           0.0             0.0             1.0  \n",
      "2            0.0           0.0             0.0             1.0  \n",
      "3            0.0           0.0             0.0             0.0  \n",
      "4            0.0           0.0             0.0             0.0  \n",
      "5            0.0           1.0             0.0             0.0  \n",
      "\n",
      "[5 rows x 62 columns]\n"
     ]
    }
   ],
   "source": [
    "# Standardize the data\n",
    "from sklearn import preprocessing\n",
    "scaler = preprocessing.MinMaxScaler()\n",
    "scaler.fit(df)\n",
    "df = pd.DataFrame(scaler.transform(df), index = df.index, columns = df.columns)\n",
    "print(df.iloc[1:6])"
   ]
  },
  {
   "cell_type": "markdown",
   "id": "aec20935",
   "metadata": {
    "papermill": {
     "duration": 0.006264,
     "end_time": "2025-09-24T14:37:41.827443",
     "exception": false,
     "start_time": "2025-09-24T14:37:41.821179",
     "status": "completed"
    },
    "tags": []
   },
   "source": [
    "## Exploratory Data Analysis(EDA)"
   ]
  },
  {
   "cell_type": "code",
   "execution_count": 11,
   "id": "cac3b898",
   "metadata": {
    "execution": {
     "iopub.execute_input": "2025-09-24T14:37:41.840589Z",
     "iopub.status.busy": "2025-09-24T14:37:41.840287Z",
     "iopub.status.idle": "2025-09-24T14:37:42.456770Z",
     "shell.execute_reply": "2025-09-24T14:37:42.455714Z"
    },
    "papermill": {
     "duration": 0.625205,
     "end_time": "2025-09-24T14:37:42.458564",
     "exception": false,
     "start_time": "2025-09-24T14:37:41.833359",
     "status": "completed"
    },
    "tags": []
   },
   "outputs": [
    {
     "name": "stdout",
     "output_type": "stream",
     "text": [
      "Index(['Rainfall', 'Humidity3pm', 'RainToday'], dtype='object')\n"
     ]
    }
   ],
   "source": [
    "#feature selection\n",
    "from sklearn.feature_selection import SelectKBest, chi2\n",
    "\n",
    "X = df.loc[:, df.columns!= \"RainTomorrow\"]\n",
    "y = df[[\"RainTomorrow\"]]\n",
    "\n",
    "selector = SelectKBest(chi2, k = 3)\n",
    "selector.fit(X, y)\n",
    "\n",
    "X_new = selector.transform(X)\n",
    "print(X.columns[selector.get_support(indices = True)])"
   ]
  },
  {
   "cell_type": "code",
   "execution_count": 12,
   "id": "fefc9c62",
   "metadata": {
    "execution": {
     "iopub.execute_input": "2025-09-24T14:37:42.472747Z",
     "iopub.status.busy": "2025-09-24T14:37:42.472016Z",
     "iopub.status.idle": "2025-09-24T14:37:42.480991Z",
     "shell.execute_reply": "2025-09-24T14:37:42.479712Z"
    },
    "papermill": {
     "duration": 0.018047,
     "end_time": "2025-09-24T14:37:42.482983",
     "exception": false,
     "start_time": "2025-09-24T14:37:42.464936",
     "status": "completed"
    },
    "tags": []
   },
   "outputs": [],
   "source": [
    "df = df[['Rainfall', 'Humidity3pm', 'RainToday','RainTomorrow']]\n",
    "X = df[['Humidity3pm']]\n",
    "y = df[['RainTomorrow']]"
   ]
  },
  {
   "cell_type": "markdown",
   "id": "33e05e04",
   "metadata": {
    "papermill": {
     "duration": 0.005785,
     "end_time": "2025-09-24T14:37:42.495164",
     "exception": false,
     "start_time": "2025-09-24T14:37:42.489379",
     "status": "completed"
    },
    "tags": []
   },
   "source": [
    "## Data Modelling"
   ]
  },
  {
   "cell_type": "markdown",
   "id": "587fd167",
   "metadata": {
    "papermill": {
     "duration": 0.005642,
     "end_time": "2025-09-24T14:37:42.506860",
     "exception": false,
     "start_time": "2025-09-24T14:37:42.501218",
     "status": "completed"
    },
    "tags": []
   },
   "source": [
    "### 1. Logistic Regression"
   ]
  },
  {
   "cell_type": "code",
   "execution_count": 13,
   "id": "b8b76367",
   "metadata": {
    "execution": {
     "iopub.execute_input": "2025-09-24T14:37:42.520858Z",
     "iopub.status.busy": "2025-09-24T14:37:42.520503Z",
     "iopub.status.idle": "2025-09-24T14:37:42.526287Z",
     "shell.execute_reply": "2025-09-24T14:37:42.524977Z"
    },
    "papermill": {
     "duration": 0.015122,
     "end_time": "2025-09-24T14:37:42.528090",
     "exception": false,
     "start_time": "2025-09-24T14:37:42.512968",
     "status": "completed"
    },
    "tags": []
   },
   "outputs": [],
   "source": [
    "# logistic Regression libraries\n",
    "from sklearn.linear_model import LogisticRegression\n",
    "from sklearn.model_selection import train_test_split\n",
    "from sklearn.metrics import accuracy_score\n",
    "import time"
   ]
  },
  {
   "cell_type": "code",
   "execution_count": 14,
   "id": "cfd0e6ea",
   "metadata": {
    "execution": {
     "iopub.execute_input": "2025-09-24T14:37:42.542130Z",
     "iopub.status.busy": "2025-09-24T14:37:42.541772Z",
     "iopub.status.idle": "2025-09-24T14:37:42.546294Z",
     "shell.execute_reply": "2025-09-24T14:37:42.545262Z"
    },
    "papermill": {
     "duration": 0.013514,
     "end_time": "2025-09-24T14:37:42.547829",
     "exception": false,
     "start_time": "2025-09-24T14:37:42.534315",
     "status": "completed"
    },
    "tags": []
   },
   "outputs": [],
   "source": [
    "#calculate the accuracy and time taken by the classifier\n",
    "tO = time.time()\n"
   ]
  },
  {
   "cell_type": "code",
   "execution_count": 15,
   "id": "d7c28a19",
   "metadata": {
    "execution": {
     "iopub.execute_input": "2025-09-24T14:37:42.561613Z",
     "iopub.status.busy": "2025-09-24T14:37:42.561301Z",
     "iopub.status.idle": "2025-09-24T14:37:42.712500Z",
     "shell.execute_reply": "2025-09-24T14:37:42.710688Z"
    },
    "papermill": {
     "duration": 0.164509,
     "end_time": "2025-09-24T14:37:42.718715",
     "exception": false,
     "start_time": "2025-09-24T14:37:42.554206",
     "status": "completed"
    },
    "tags": []
   },
   "outputs": [
    {
     "name": "stderr",
     "output_type": "stream",
     "text": [
      "/usr/local/lib/python3.11/dist-packages/sklearn/utils/validation.py:1143: DataConversionWarning: A column-vector y was passed when a 1d array was expected. Please change the shape of y to (n_samples, ), for example using ravel().\n",
      "  y = column_or_1d(y, warn=True)\n"
     ]
    },
    {
     "data": {
      "text/html": [
       "<style>#sk-container-id-1 {color: black;background-color: white;}#sk-container-id-1 pre{padding: 0;}#sk-container-id-1 div.sk-toggleable {background-color: white;}#sk-container-id-1 label.sk-toggleable__label {cursor: pointer;display: block;width: 100%;margin-bottom: 0;padding: 0.3em;box-sizing: border-box;text-align: center;}#sk-container-id-1 label.sk-toggleable__label-arrow:before {content: \"▸\";float: left;margin-right: 0.25em;color: #696969;}#sk-container-id-1 label.sk-toggleable__label-arrow:hover:before {color: black;}#sk-container-id-1 div.sk-estimator:hover label.sk-toggleable__label-arrow:before {color: black;}#sk-container-id-1 div.sk-toggleable__content {max-height: 0;max-width: 0;overflow: hidden;text-align: left;background-color: #f0f8ff;}#sk-container-id-1 div.sk-toggleable__content pre {margin: 0.2em;color: black;border-radius: 0.25em;background-color: #f0f8ff;}#sk-container-id-1 input.sk-toggleable__control:checked~div.sk-toggleable__content {max-height: 200px;max-width: 100%;overflow: auto;}#sk-container-id-1 input.sk-toggleable__control:checked~label.sk-toggleable__label-arrow:before {content: \"▾\";}#sk-container-id-1 div.sk-estimator input.sk-toggleable__control:checked~label.sk-toggleable__label {background-color: #d4ebff;}#sk-container-id-1 div.sk-label input.sk-toggleable__control:checked~label.sk-toggleable__label {background-color: #d4ebff;}#sk-container-id-1 input.sk-hidden--visually {border: 0;clip: rect(1px 1px 1px 1px);clip: rect(1px, 1px, 1px, 1px);height: 1px;margin: -1px;overflow: hidden;padding: 0;position: absolute;width: 1px;}#sk-container-id-1 div.sk-estimator {font-family: monospace;background-color: #f0f8ff;border: 1px dotted black;border-radius: 0.25em;box-sizing: border-box;margin-bottom: 0.5em;}#sk-container-id-1 div.sk-estimator:hover {background-color: #d4ebff;}#sk-container-id-1 div.sk-parallel-item::after {content: \"\";width: 100%;border-bottom: 1px solid gray;flex-grow: 1;}#sk-container-id-1 div.sk-label:hover label.sk-toggleable__label {background-color: #d4ebff;}#sk-container-id-1 div.sk-serial::before {content: \"\";position: absolute;border-left: 1px solid gray;box-sizing: border-box;top: 0;bottom: 0;left: 50%;z-index: 0;}#sk-container-id-1 div.sk-serial {display: flex;flex-direction: column;align-items: center;background-color: white;padding-right: 0.2em;padding-left: 0.2em;position: relative;}#sk-container-id-1 div.sk-item {position: relative;z-index: 1;}#sk-container-id-1 div.sk-parallel {display: flex;align-items: stretch;justify-content: center;background-color: white;position: relative;}#sk-container-id-1 div.sk-item::before, #sk-container-id-1 div.sk-parallel-item::before {content: \"\";position: absolute;border-left: 1px solid gray;box-sizing: border-box;top: 0;bottom: 0;left: 50%;z-index: -1;}#sk-container-id-1 div.sk-parallel-item {display: flex;flex-direction: column;z-index: 1;position: relative;background-color: white;}#sk-container-id-1 div.sk-parallel-item:first-child::after {align-self: flex-end;width: 50%;}#sk-container-id-1 div.sk-parallel-item:last-child::after {align-self: flex-start;width: 50%;}#sk-container-id-1 div.sk-parallel-item:only-child::after {width: 0;}#sk-container-id-1 div.sk-dashed-wrapped {border: 1px dashed gray;margin: 0 0.4em 0.5em 0.4em;box-sizing: border-box;padding-bottom: 0.4em;background-color: white;}#sk-container-id-1 div.sk-label label {font-family: monospace;font-weight: bold;display: inline-block;line-height: 1.2em;}#sk-container-id-1 div.sk-label-container {text-align: center;}#sk-container-id-1 div.sk-container {/* jupyter's `normalize.less` sets `[hidden] { display: none; }` but bootstrap.min.css set `[hidden] { display: none !important; }` so we also need the `!important` here to be able to override the default hidden behavior on the sphinx rendered scikit-learn.org. See: https://github.com/scikit-learn/scikit-learn/issues/21755 */display: inline-block !important;position: relative;}#sk-container-id-1 div.sk-text-repr-fallback {display: none;}</style><div id=\"sk-container-id-1\" class=\"sk-top-container\"><div class=\"sk-text-repr-fallback\"><pre>LogisticRegression(random_state=0)</pre><b>In a Jupyter environment, please rerun this cell to show the HTML representation or trust the notebook. <br />On GitHub, the HTML representation is unable to render, please try loading this page with nbviewer.org.</b></div><div class=\"sk-container\" hidden><div class=\"sk-item\"><div class=\"sk-estimator sk-toggleable\"><input class=\"sk-toggleable__control sk-hidden--visually\" id=\"sk-estimator-id-1\" type=\"checkbox\" checked><label for=\"sk-estimator-id-1\" class=\"sk-toggleable__label sk-toggleable__label-arrow\">LogisticRegression</label><div class=\"sk-toggleable__content\"><pre>LogisticRegression(random_state=0)</pre></div></div></div></div></div>"
      ],
      "text/plain": [
       "LogisticRegression(random_state=0)"
      ]
     },
     "execution_count": 15,
     "metadata": {},
     "output_type": "execute_result"
    }
   ],
   "source": [
    "#Data spliting\n",
    "X_train, X_test,y_train, y_test = train_test_split(X, y, test_size = 0.2)\n",
    "\n",
    "clf_logreg = LogisticRegression(random_state = 0)\n",
    "# build the model using training dataset\n",
    "clf_logreg.fit(X_train, y_train)"
   ]
  },
  {
   "cell_type": "code",
   "execution_count": 16,
   "id": "0eb4e59c",
   "metadata": {
    "execution": {
     "iopub.execute_input": "2025-09-24T14:37:42.741995Z",
     "iopub.status.busy": "2025-09-24T14:37:42.741632Z",
     "iopub.status.idle": "2025-09-24T14:37:42.758332Z",
     "shell.execute_reply": "2025-09-24T14:37:42.757498Z"
    },
    "papermill": {
     "duration": 0.030711,
     "end_time": "2025-09-24T14:37:42.759943",
     "exception": false,
     "start_time": "2025-09-24T14:37:42.729232",
     "status": "completed"
    },
    "tags": []
   },
   "outputs": [],
   "source": [
    "#evaluate the model using test data\n",
    "y_pred = clf_logreg.predict(X_test)\n",
    "score = accuracy_score(y_test, y_pred)"
   ]
  },
  {
   "cell_type": "code",
   "execution_count": 17,
   "id": "62832fc4",
   "metadata": {
    "execution": {
     "iopub.execute_input": "2025-09-24T14:37:42.783928Z",
     "iopub.status.busy": "2025-09-24T14:37:42.783321Z",
     "iopub.status.idle": "2025-09-24T14:37:42.792336Z",
     "shell.execute_reply": "2025-09-24T14:37:42.791472Z"
    },
    "papermill": {
     "duration": 0.023821,
     "end_time": "2025-09-24T14:37:42.794268",
     "exception": false,
     "start_time": "2025-09-24T14:37:42.770447",
     "status": "completed"
    },
    "tags": []
   },
   "outputs": [
    {
     "name": "stdout",
     "output_type": "stream",
     "text": [
      "LogisticRegression Accuracy: 0.8401316399369612\n",
      "LogisticRegression Time taken: 0.24367523193359375\n"
     ]
    }
   ],
   "source": [
    "#print accuracy and time taken by the classifier\n",
    "print(\"LogisticRegression Accuracy:\", score)\n",
    "print(\"LogisticRegression Time taken:\", time.time()- tO)"
   ]
  },
  {
   "cell_type": "markdown",
   "id": "b5ded09a",
   "metadata": {
    "papermill": {
     "duration": 0.006349,
     "end_time": "2025-09-24T14:37:42.811335",
     "exception": false,
     "start_time": "2025-09-24T14:37:42.804986",
     "status": "completed"
    },
    "tags": []
   },
   "source": [
    "### 2. Random Forest Classifier"
   ]
  },
  {
   "cell_type": "code",
   "execution_count": 18,
   "id": "0f170f76",
   "metadata": {
    "execution": {
     "iopub.execute_input": "2025-09-24T14:37:42.826445Z",
     "iopub.status.busy": "2025-09-24T14:37:42.826103Z",
     "iopub.status.idle": "2025-09-24T14:37:43.029937Z",
     "shell.execute_reply": "2025-09-24T14:37:43.028189Z"
    },
    "papermill": {
     "duration": 0.214402,
     "end_time": "2025-09-24T14:37:43.032290",
     "exception": false,
     "start_time": "2025-09-24T14:37:42.817888",
     "status": "completed"
    },
    "tags": []
   },
   "outputs": [],
   "source": [
    "# random forest libraries\n",
    "from sklearn.ensemble import RandomForestClassifier"
   ]
  },
  {
   "cell_type": "code",
   "execution_count": 19,
   "id": "6636e87c",
   "metadata": {
    "execution": {
     "iopub.execute_input": "2025-09-24T14:37:43.046696Z",
     "iopub.status.busy": "2025-09-24T14:37:43.046373Z",
     "iopub.status.idle": "2025-09-24T14:37:45.401624Z",
     "shell.execute_reply": "2025-09-24T14:37:45.399806Z"
    },
    "papermill": {
     "duration": 2.364713,
     "end_time": "2025-09-24T14:37:45.403607",
     "exception": false,
     "start_time": "2025-09-24T14:37:43.038894",
     "status": "completed"
    },
    "tags": []
   },
   "outputs": [
    {
     "name": "stderr",
     "output_type": "stream",
     "text": [
      "/tmp/ipykernel_13/1619099864.py:3: DataConversionWarning: A column-vector y was passed when a 1d array was expected. Please change the shape of y to (n_samples,), for example using ravel().\n",
      "  clf_rf.fit(X_train, y_train)\n"
     ]
    },
    {
     "data": {
      "text/html": [
       "<style>#sk-container-id-2 {color: black;background-color: white;}#sk-container-id-2 pre{padding: 0;}#sk-container-id-2 div.sk-toggleable {background-color: white;}#sk-container-id-2 label.sk-toggleable__label {cursor: pointer;display: block;width: 100%;margin-bottom: 0;padding: 0.3em;box-sizing: border-box;text-align: center;}#sk-container-id-2 label.sk-toggleable__label-arrow:before {content: \"▸\";float: left;margin-right: 0.25em;color: #696969;}#sk-container-id-2 label.sk-toggleable__label-arrow:hover:before {color: black;}#sk-container-id-2 div.sk-estimator:hover label.sk-toggleable__label-arrow:before {color: black;}#sk-container-id-2 div.sk-toggleable__content {max-height: 0;max-width: 0;overflow: hidden;text-align: left;background-color: #f0f8ff;}#sk-container-id-2 div.sk-toggleable__content pre {margin: 0.2em;color: black;border-radius: 0.25em;background-color: #f0f8ff;}#sk-container-id-2 input.sk-toggleable__control:checked~div.sk-toggleable__content {max-height: 200px;max-width: 100%;overflow: auto;}#sk-container-id-2 input.sk-toggleable__control:checked~label.sk-toggleable__label-arrow:before {content: \"▾\";}#sk-container-id-2 div.sk-estimator input.sk-toggleable__control:checked~label.sk-toggleable__label {background-color: #d4ebff;}#sk-container-id-2 div.sk-label input.sk-toggleable__control:checked~label.sk-toggleable__label {background-color: #d4ebff;}#sk-container-id-2 input.sk-hidden--visually {border: 0;clip: rect(1px 1px 1px 1px);clip: rect(1px, 1px, 1px, 1px);height: 1px;margin: -1px;overflow: hidden;padding: 0;position: absolute;width: 1px;}#sk-container-id-2 div.sk-estimator {font-family: monospace;background-color: #f0f8ff;border: 1px dotted black;border-radius: 0.25em;box-sizing: border-box;margin-bottom: 0.5em;}#sk-container-id-2 div.sk-estimator:hover {background-color: #d4ebff;}#sk-container-id-2 div.sk-parallel-item::after {content: \"\";width: 100%;border-bottom: 1px solid gray;flex-grow: 1;}#sk-container-id-2 div.sk-label:hover label.sk-toggleable__label {background-color: #d4ebff;}#sk-container-id-2 div.sk-serial::before {content: \"\";position: absolute;border-left: 1px solid gray;box-sizing: border-box;top: 0;bottom: 0;left: 50%;z-index: 0;}#sk-container-id-2 div.sk-serial {display: flex;flex-direction: column;align-items: center;background-color: white;padding-right: 0.2em;padding-left: 0.2em;position: relative;}#sk-container-id-2 div.sk-item {position: relative;z-index: 1;}#sk-container-id-2 div.sk-parallel {display: flex;align-items: stretch;justify-content: center;background-color: white;position: relative;}#sk-container-id-2 div.sk-item::before, #sk-container-id-2 div.sk-parallel-item::before {content: \"\";position: absolute;border-left: 1px solid gray;box-sizing: border-box;top: 0;bottom: 0;left: 50%;z-index: -1;}#sk-container-id-2 div.sk-parallel-item {display: flex;flex-direction: column;z-index: 1;position: relative;background-color: white;}#sk-container-id-2 div.sk-parallel-item:first-child::after {align-self: flex-end;width: 50%;}#sk-container-id-2 div.sk-parallel-item:last-child::after {align-self: flex-start;width: 50%;}#sk-container-id-2 div.sk-parallel-item:only-child::after {width: 0;}#sk-container-id-2 div.sk-dashed-wrapped {border: 1px dashed gray;margin: 0 0.4em 0.5em 0.4em;box-sizing: border-box;padding-bottom: 0.4em;background-color: white;}#sk-container-id-2 div.sk-label label {font-family: monospace;font-weight: bold;display: inline-block;line-height: 1.2em;}#sk-container-id-2 div.sk-label-container {text-align: center;}#sk-container-id-2 div.sk-container {/* jupyter's `normalize.less` sets `[hidden] { display: none; }` but bootstrap.min.css set `[hidden] { display: none !important; }` so we also need the `!important` here to be able to override the default hidden behavior on the sphinx rendered scikit-learn.org. See: https://github.com/scikit-learn/scikit-learn/issues/21755 */display: inline-block !important;position: relative;}#sk-container-id-2 div.sk-text-repr-fallback {display: none;}</style><div id=\"sk-container-id-2\" class=\"sk-top-container\"><div class=\"sk-text-repr-fallback\"><pre>RandomForestClassifier(max_depth=4, random_state=0)</pre><b>In a Jupyter environment, please rerun this cell to show the HTML representation or trust the notebook. <br />On GitHub, the HTML representation is unable to render, please try loading this page with nbviewer.org.</b></div><div class=\"sk-container\" hidden><div class=\"sk-item\"><div class=\"sk-estimator sk-toggleable\"><input class=\"sk-toggleable__control sk-hidden--visually\" id=\"sk-estimator-id-2\" type=\"checkbox\" checked><label for=\"sk-estimator-id-2\" class=\"sk-toggleable__label sk-toggleable__label-arrow\">RandomForestClassifier</label><div class=\"sk-toggleable__content\"><pre>RandomForestClassifier(max_depth=4, random_state=0)</pre></div></div></div></div></div>"
      ],
      "text/plain": [
       "RandomForestClassifier(max_depth=4, random_state=0)"
      ]
     },
     "execution_count": 19,
     "metadata": {},
     "output_type": "execute_result"
    }
   ],
   "source": [
    "clf_rf= RandomForestClassifier(n_estimators = 100, max_depth = 4, random_state = 0)\n",
    "# build the model using training dataset\n",
    "clf_rf.fit(X_train, y_train)"
   ]
  },
  {
   "cell_type": "code",
   "execution_count": 20,
   "id": "acd94b3d",
   "metadata": {
    "execution": {
     "iopub.execute_input": "2025-09-24T14:37:45.419289Z",
     "iopub.status.busy": "2025-09-24T14:37:45.418784Z",
     "iopub.status.idle": "2025-09-24T14:37:45.596195Z",
     "shell.execute_reply": "2025-09-24T14:37:45.595054Z"
    },
    "papermill": {
     "duration": 0.187471,
     "end_time": "2025-09-24T14:37:45.597958",
     "exception": false,
     "start_time": "2025-09-24T14:37:45.410487",
     "status": "completed"
    },
    "tags": []
   },
   "outputs": [],
   "source": [
    "#evaluate the model using test data\n",
    "y_pred = clf_rf.predict(X_test)\n",
    "score = accuracy_score(y_test, y_pred)"
   ]
  },
  {
   "cell_type": "code",
   "execution_count": 21,
   "id": "1e240748",
   "metadata": {
    "execution": {
     "iopub.execute_input": "2025-09-24T14:37:45.614043Z",
     "iopub.status.busy": "2025-09-24T14:37:45.613631Z",
     "iopub.status.idle": "2025-09-24T14:37:45.619626Z",
     "shell.execute_reply": "2025-09-24T14:37:45.618381Z"
    },
    "papermill": {
     "duration": 0.016579,
     "end_time": "2025-09-24T14:37:45.621361",
     "exception": false,
     "start_time": "2025-09-24T14:37:45.604782",
     "status": "completed"
    },
    "tags": []
   },
   "outputs": [
    {
     "name": "stdout",
     "output_type": "stream",
     "text": [
      "RandomForest Accuracy: 0.8421247798275702\n",
      "RandomForest Time taken: 3.072256565093994\n"
     ]
    }
   ],
   "source": [
    "#print accuracy and time taken by the classifier\n",
    "print(\"RandomForest Accuracy:\", score)\n",
    "print(\"RandomForest Time taken:\", time.time()- tO)"
   ]
  },
  {
   "cell_type": "markdown",
   "id": "0702b0e3",
   "metadata": {
    "papermill": {
     "duration": 0.006384,
     "end_time": "2025-09-24T14:37:45.634643",
     "exception": false,
     "start_time": "2025-09-24T14:37:45.628259",
     "status": "completed"
    },
    "tags": []
   },
   "source": [
    "### 3. Decision Tree Classifier"
   ]
  },
  {
   "cell_type": "code",
   "execution_count": 22,
   "id": "e35a85cb",
   "metadata": {
    "execution": {
     "iopub.execute_input": "2025-09-24T14:37:45.649770Z",
     "iopub.status.busy": "2025-09-24T14:37:45.649492Z",
     "iopub.status.idle": "2025-09-24T14:37:45.654161Z",
     "shell.execute_reply": "2025-09-24T14:37:45.653225Z"
    },
    "papermill": {
     "duration": 0.014321,
     "end_time": "2025-09-24T14:37:45.655800",
     "exception": false,
     "start_time": "2025-09-24T14:37:45.641479",
     "status": "completed"
    },
    "tags": []
   },
   "outputs": [],
   "source": [
    "from sklearn.tree import DecisionTreeClassifier"
   ]
  },
  {
   "cell_type": "code",
   "execution_count": 23,
   "id": "4a04e2f9",
   "metadata": {
    "execution": {
     "iopub.execute_input": "2025-09-24T14:37:45.670678Z",
     "iopub.status.busy": "2025-09-24T14:37:45.670371Z",
     "iopub.status.idle": "2025-09-24T14:37:45.725073Z",
     "shell.execute_reply": "2025-09-24T14:37:45.724024Z"
    },
    "papermill": {
     "duration": 0.063926,
     "end_time": "2025-09-24T14:37:45.726599",
     "exception": false,
     "start_time": "2025-09-24T14:37:45.662673",
     "status": "completed"
    },
    "tags": []
   },
   "outputs": [
    {
     "name": "stdout",
     "output_type": "stream",
     "text": [
      "DecisionTree Accuracy: 0.8406415129322332\n",
      "Time Taken for DecisionTree: 3.1782827377319336\n"
     ]
    }
   ],
   "source": [
    "clf_dt = DecisionTreeClassifier(random_state = 0)\n",
    "clf_dt.fit(X_train, y_train)\n",
    "\n",
    "y_pred = clf_dt.predict(X_test)\n",
    "score = accuracy_score(y_test, y_pred)\n",
    "\n",
    "print(\"DecisionTree Accuracy:\", score)\n",
    "print(\"Time Taken for DecisionTree:\", time.time() - tO)\n"
   ]
  },
  {
   "cell_type": "markdown",
   "id": "d443bcaa",
   "metadata": {
    "papermill": {
     "duration": 0.008052,
     "end_time": "2025-09-24T14:37:45.741871",
     "exception": false,
     "start_time": "2025-09-24T14:37:45.733819",
     "status": "completed"
    },
    "tags": []
   },
   "source": [
    "### 4. Support Vector Machine"
   ]
  },
  {
   "cell_type": "code",
   "execution_count": 24,
   "id": "544bfff3",
   "metadata": {
    "execution": {
     "iopub.execute_input": "2025-09-24T14:37:45.756748Z",
     "iopub.status.busy": "2025-09-24T14:37:45.756451Z",
     "iopub.status.idle": "2025-09-24T14:37:45.762123Z",
     "shell.execute_reply": "2025-09-24T14:37:45.760573Z"
    },
    "papermill": {
     "duration": 0.015263,
     "end_time": "2025-09-24T14:37:45.763895",
     "exception": false,
     "start_time": "2025-09-24T14:37:45.748632",
     "status": "completed"
    },
    "tags": []
   },
   "outputs": [],
   "source": [
    "# support vector machine libraries\n",
    "from sklearn import svm"
   ]
  },
  {
   "cell_type": "code",
   "execution_count": 25,
   "id": "b5fd6bdb",
   "metadata": {
    "execution": {
     "iopub.execute_input": "2025-09-24T14:37:45.779800Z",
     "iopub.status.busy": "2025-09-24T14:37:45.779451Z",
     "iopub.status.idle": "2025-09-24T14:40:34.017389Z",
     "shell.execute_reply": "2025-09-24T14:40:34.016162Z"
    },
    "papermill": {
     "duration": 168.256951,
     "end_time": "2025-09-24T14:40:34.027823",
     "exception": false,
     "start_time": "2025-09-24T14:37:45.770872",
     "status": "completed"
    },
    "tags": []
   },
   "outputs": [
    {
     "name": "stderr",
     "output_type": "stream",
     "text": [
      "/usr/local/lib/python3.11/dist-packages/sklearn/utils/validation.py:1143: DataConversionWarning: A column-vector y was passed when a 1d array was expected. Please change the shape of y to (n_samples, ), for example using ravel().\n",
      "  y = column_or_1d(y, warn=True)\n"
     ]
    },
    {
     "name": "stdout",
     "output_type": "stream",
     "text": [
      "svm Accuracy: 0.7965606748864373\n",
      "svm time taken: 171.47031831741333\n"
     ]
    }
   ],
   "source": [
    "clf_svm = svm.SVC(kernel = \"linear\")\n",
    "clf_svm.fit(X_train, y_train)\n",
    "y_pred = clf_svm.predict(X_test)\n",
    "score = accuracy_score(y_test, y_pred)\n",
    "print(\"svm Accuracy:\", score)\n",
    "print(\"svm time taken:\", time.time()-tO)"
   ]
  }
 ],
 "metadata": {
  "kaggle": {
   "accelerator": "none",
   "dataSources": [
    {
     "datasetId": 429640,
     "sourceId": 816667,
     "sourceType": "datasetVersion"
    }
   ],
   "dockerImageVersionId": 31089,
   "isGpuEnabled": false,
   "isInternetEnabled": true,
   "language": "python",
   "sourceType": "notebook"
  },
  "kernelspec": {
   "display_name": "Python 3",
   "language": "python",
   "name": "python3"
  },
  "language_info": {
   "codemirror_mode": {
    "name": "ipython",
    "version": 3
   },
   "file_extension": ".py",
   "mimetype": "text/x-python",
   "name": "python",
   "nbconvert_exporter": "python",
   "pygments_lexer": "ipython3",
   "version": "3.11.13"
  },
  "papermill": {
   "default_parameters": {},
   "duration": 186.285774,
   "end_time": "2025-09-24T14:40:34.957889",
   "environment_variables": {},
   "exception": null,
   "input_path": "__notebook__.ipynb",
   "output_path": "__notebook__.ipynb",
   "parameters": {},
   "start_time": "2025-09-24T14:37:28.672115",
   "version": "2.6.0"
  }
 },
 "nbformat": 4,
 "nbformat_minor": 5
}
